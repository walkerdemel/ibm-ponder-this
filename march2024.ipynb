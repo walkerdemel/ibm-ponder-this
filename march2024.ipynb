{
 "cells": [
  {
   "cell_type": "markdown",
   "metadata": {},
   "source": [
    "This problem was suggested by Latchezar Christov - thanks Latchezar!\n",
    "\n",
    "Let X<sub>n</sub> be the sequence of n natural numbers a<sub>0</sub>, a<sub>1</sub>, . . . , a<sub>n-1</sub> for which three properties are true:\n",
    "1. a<sub>i</sub>=a<sub>i-1</sub> + i for 0 < i < n\n",
    "2. None of the sequence terms is prime.\n",
    "3. There is no other sequence with the above properties and a smaller initial term a<sub>0</sub> .\n",
    "Please note that because of property #1, there will only be n numbers in the sequence, for any given n.\n",
    "The first such sequences are:\n",
    "The first such sequences are:\n",
    "\n",
    "X<sub>1</sub> = [1]\n",
    "\n",
    "X<sub>2</sub> = [8,9]\n",
    "\n",
    "X<sub>3</sub> = [9,10,12]\n",
    "\n",
    "X<sub>4</sub> = [9,10,12,15]\n",
    "\n",
    "X<sub>5</sub> = [15,16,18,21,25]\n",
    "\n",
    "Your Goal: Please find the initial term a<sub>0</sub> of the sequence X<sub>1000</sub>\n",
    "\n",
    "A Bonus \"*\" will be given for finding the initial term a<sub>0</sub> of the sequence X<sub>2024</sub>"
   ]
  },
  {
   "cell_type": "code",
   "execution_count": null,
   "metadata": {
    "vscode": {
     "languageId": "plaintext"
    }
   },
   "outputs": [],
   "source": [
    "def "
   ]
  }
 ],
 "metadata": {
  "language_info": {
   "name": "python"
  }
 },
 "nbformat": 4,
 "nbformat_minor": 2
}
