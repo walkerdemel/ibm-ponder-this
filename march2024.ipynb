{
 "cells": [
  {
   "cell_type": "markdown",
   "metadata": {},
   "source": [
    "This problem was suggested by Latchezar Christov - thanks Latchezar!\n",
    "\n",
    "Let X<sub>n</sub> be the sequence of n natural numbers a<sub>0</sub>, a<sub>1</sub>, . . . , a<sub>n-1</sub> for which three properties are true:\n",
    "1. a<sub>i</sub>=a<sub>i-1</sub> + i for 0 < i < n\n",
    "2. None of the sequence terms is prime.\n",
    "3. There is no other sequence with the above properties and a smaller initial term a<sub>0</sub> .\n",
    "Please note that because of property #1, there will only be n numbers in the sequence, for any given n.\n",
    "The first such sequences are:\n",
    "The first such sequences are:\n",
    "\n",
    "X<sub>1</sub> = [1]\n",
    "\n",
    "X<sub>2</sub> = [8,9]\n",
    "\n",
    "X<sub>3</sub> = [9,10,12]\n",
    "\n",
    "X<sub>4</sub> = [9,10,12,15]\n",
    "\n",
    "X<sub>5</sub> = [15,16,18,21,25]\n",
    "\n",
    "Your Goal: Please find the initial term a<sub>0</sub> of the sequence X<sub>1000</sub>\n",
    "\n",
    "A Bonus \"*\" will be given for finding the initial term a<sub>0</sub> of the sequence X<sub>2024</sub>"
   ]
  },
  {
   "cell_type": "code",
   "execution_count": 8,
   "metadata": {},
   "outputs": [
    {
     "name": "stdout",
     "output_type": "stream",
     "text": [
      "100000000\n"
     ]
    }
   ],
   "source": [
    "import numpy as np\n",
    "\n",
    "def sieve_of_eratosthenes(limit):\n",
    "    sieve = np.full(limit, True, dtype=bool)\n",
    "    sieve[0:2] = False  # 0 and 1 are not prime\n",
    "    p = 2\n",
    "    while p**2 <= limit:\n",
    "        if sieve[p]:\n",
    "            sieve[p**2:limit:p] = False\n",
    "        p += 1\n",
    "    return np.nonzero(sieve)[0]\n",
    "\n",
    "def generate_primes(count):\n",
    "    limit = count * int(np.log(count) + np.log(np.log(count)))\n",
    "    primes = sieve_of_eratosthenes(limit)\n",
    "    return primes[:count]\n",
    "\n",
    "primes = generate_primes(100000000)\n",
    "# print(primes)\n",
    "# for i in range(20):\n",
    "#     print(primes[i])\n",
    "print(len(primes))\n"
   ]
  },
  {
   "cell_type": "code",
   "execution_count": 1,
   "metadata": {},
   "outputs": [
    {
     "ename": "KeyboardInterrupt",
     "evalue": "",
     "output_type": "error",
     "traceback": [
      "\u001b[1;31m---------------------------------------------------------------------------\u001b[0m",
      "\u001b[1;31mKeyboardInterrupt\u001b[0m                         Traceback (most recent call last)",
      "\u001b[1;32m~\\AppData\\Local\\Temp/ipykernel_14920/2062788995.py\u001b[0m in \u001b[0;36m<module>\u001b[1;34m\u001b[0m\n\u001b[0;32m     21\u001b[0m     \u001b[1;31m# print(i)\u001b[0m\u001b[1;33m\u001b[0m\u001b[1;33m\u001b[0m\u001b[0m\n\u001b[0;32m     22\u001b[0m     \u001b[1;31m# print(2 % i != 0)\u001b[0m\u001b[1;33m\u001b[0m\u001b[1;33m\u001b[0m\u001b[0m\n\u001b[1;32m---> 23\u001b[1;33m     \u001b[1;32mif\u001b[0m \u001b[0mall\u001b[0m\u001b[1;33m(\u001b[0m\u001b[1;33m[\u001b[0m\u001b[0mi\u001b[0m \u001b[1;33m%\u001b[0m \u001b[0mprime\u001b[0m \u001b[1;33m!=\u001b[0m \u001b[1;36m0\u001b[0m \u001b[1;32mfor\u001b[0m \u001b[0mprime\u001b[0m \u001b[1;32min\u001b[0m \u001b[0mprimes\u001b[0m\u001b[1;33m]\u001b[0m\u001b[1;33m)\u001b[0m\u001b[1;33m:\u001b[0m\u001b[1;33m\u001b[0m\u001b[1;33m\u001b[0m\u001b[0m\n\u001b[0m\u001b[0;32m     24\u001b[0m         \u001b[0mprimes\u001b[0m\u001b[1;33m.\u001b[0m\u001b[0mappend\u001b[0m\u001b[1;33m(\u001b[0m\u001b[0mi\u001b[0m\u001b[1;33m)\u001b[0m\u001b[1;33m\u001b[0m\u001b[1;33m\u001b[0m\u001b[0m\n\u001b[0;32m     25\u001b[0m \u001b[1;31m# end = time.time()\u001b[0m\u001b[1;33m\u001b[0m\u001b[1;33m\u001b[0m\u001b[0m\n",
      "\u001b[1;32m~\\AppData\\Local\\Temp/ipykernel_14920/2062788995.py\u001b[0m in \u001b[0;36m<listcomp>\u001b[1;34m(.0)\u001b[0m\n\u001b[0;32m     21\u001b[0m     \u001b[1;31m# print(i)\u001b[0m\u001b[1;33m\u001b[0m\u001b[1;33m\u001b[0m\u001b[0m\n\u001b[0;32m     22\u001b[0m     \u001b[1;31m# print(2 % i != 0)\u001b[0m\u001b[1;33m\u001b[0m\u001b[1;33m\u001b[0m\u001b[0m\n\u001b[1;32m---> 23\u001b[1;33m     \u001b[1;32mif\u001b[0m \u001b[0mall\u001b[0m\u001b[1;33m(\u001b[0m\u001b[1;33m[\u001b[0m\u001b[0mi\u001b[0m \u001b[1;33m%\u001b[0m \u001b[0mprime\u001b[0m \u001b[1;33m!=\u001b[0m \u001b[1;36m0\u001b[0m \u001b[1;32mfor\u001b[0m \u001b[0mprime\u001b[0m \u001b[1;32min\u001b[0m \u001b[0mprimes\u001b[0m\u001b[1;33m]\u001b[0m\u001b[1;33m)\u001b[0m\u001b[1;33m:\u001b[0m\u001b[1;33m\u001b[0m\u001b[1;33m\u001b[0m\u001b[0m\n\u001b[0m\u001b[0;32m     24\u001b[0m         \u001b[0mprimes\u001b[0m\u001b[1;33m.\u001b[0m\u001b[0mappend\u001b[0m\u001b[1;33m(\u001b[0m\u001b[0mi\u001b[0m\u001b[1;33m)\u001b[0m\u001b[1;33m\u001b[0m\u001b[1;33m\u001b[0m\u001b[0m\n\u001b[0;32m     25\u001b[0m \u001b[1;31m# end = time.time()\u001b[0m\u001b[1;33m\u001b[0m\u001b[1;33m\u001b[0m\u001b[0m\n",
      "\u001b[1;31mKeyboardInterrupt\u001b[0m: "
     ]
    }
   ],
   "source": [
    "import time\n",
    "\n",
    "def isPrime(n):\n",
    "    if n == 1:\n",
    "        return False\n",
    "\n",
    "    i = 2\n",
    "    while i*i <= n:\n",
    "        if n % i == 0:\n",
    "            return False\n",
    "        i += 1\n",
    "    return True\n",
    "\n",
    "import time\n",
    "\n",
    "biggest_prime = 500000\n",
    "# build up list of primes incrementally\n",
    "primes = [2,3,5,7,11]\n",
    "start = time.time()\n",
    "for i in range(13, biggest_prime, 2):\n",
    "    # print(i)\n",
    "    # print(2 % i != 0)\n",
    "    if all([i % prime != 0 for prime in primes]):\n",
    "        primes.append(i)\n",
    "end = time.time()\n",
    "\n",
    "primes = set(primes)\n",
    "\n",
    "print(\"created set of primes\")\n",
    "\n",
    "print(end - start)\n",
    "\n",
    "\n",
    "def isComposite(n):\n",
    "    if n == 1:\n",
    "        return True\n",
    "    if n == 2:\n",
    "        return False\n",
    "    i = 2\n",
    "    while i*i <= n:\n",
    "        if n % i == 0:\n",
    "            return True\n",
    "        i += 1\n",
    "    return False\n",
    "\n",
    "# for i in range(10):\n",
    "#     print(isComposite(i))\n",
    "\n",
    "def construct_sequence(n):\n",
    "    print('constructing sequence for', n)\n",
    "    # sequence = []\n",
    "    differences = list(range(0,n))\n",
    "    # print('differences', differences)\n",
    "    a_0 = 1\n",
    "    while True:\n",
    "        sequence = [a_0 + d for d in differences]\n",
    "        if all([s < biggest_prime for s in sequence]) and any([s in primes for s in sequence]):\n",
    "            a_0 += 1\n",
    "        elif not all([isComposite(s) for s in sequence]):\n",
    "            # print(\"slow composite check needed for\", n)\n",
    "            a_0 += 1\n",
    "        else:\n",
    "            return sequence\n",
    "\n",
    "\n",
    "print(\"SEQUENCE:\",construct_sequence(1))\n",
    "print(\"SEQUENCE:\",construct_sequence(2))\n",
    "print(\"SEQUENCE:\",construct_sequence(3))\n",
    "print(\"SEQUENCE:\",construct_sequence(4))\n",
    "print(\"SEQUENCE:\",construct_sequence(5))\n",
    "\n",
    "times = []\n",
    "for i in range(70):\n",
    "    start = time.time()\n",
    "    print(i,construct_sequence(i))\n",
    "    end = time.time()\n",
    "    t = end - start\n",
    "    times.append(t)\n",
    "\n",
    "s = time.time()\n",
    "print(construct_sequence(100))\n",
    "e = time.time()\n",
    "\n",
    "times.append(e-s)\n",
    "\n",
    "s = time.time()\n",
    "print(construct_sequence(150))\n",
    "e = time.time()\n",
    "\n",
    "times.append(e-s)\n",
    "\n",
    "print(times)\n",
    "\n",
    "\n",
    "import seaborn as sns\n",
    "import matplotlib.pyplot as plt\n",
    "sns.set_style(\"whitegrid\")\n",
    "\n",
    "# Plotting the numbers using Seaborn\n",
    "sns.lineplot(x=range(len(times)), y=times)\n",
    "\n",
    "# Adding labels\n",
    "plt.xlabel('sequence')\n",
    "plt.ylabel('time')\n",
    "\n",
    "# Adding title\n",
    "plt.title('timings by sequence length')\n",
    "\n",
    "# Displaying the plot\n",
    "plt.show()\n",
    "\n",
    "\n",
    "\n",
    "\n",
    "\n",
    "# print(primes)\n"
   ]
  },
  {
   "cell_type": "code",
   "execution_count": 41,
   "metadata": {},
   "outputs": [
    {
     "data": {
      "text/plain": [
       "[0]"
      ]
     },
     "execution_count": 41,
     "metadata": {},
     "output_type": "execute_result"
    }
   ],
   "source": [
    "list(range(0,1))"
   ]
  }
 ],
 "metadata": {
  "kernelspec": {
   "display_name": "base",
   "language": "python",
   "name": "python3"
  },
  "language_info": {
   "codemirror_mode": {
    "name": "ipython",
    "version": 3
   },
   "file_extension": ".py",
   "mimetype": "text/x-python",
   "name": "python",
   "nbconvert_exporter": "python",
   "pygments_lexer": "ipython3",
   "version": "3.9.7"
  }
 },
 "nbformat": 4,
 "nbformat_minor": 2
}
